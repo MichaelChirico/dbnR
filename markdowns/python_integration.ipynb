{
 "cells": [
  {
   "cell_type": "markdown",
   "id": "resident-primary",
   "metadata": {},
   "source": [
    "Author: dkesada\n",
    "\n",
    "## Integration of _dbnR_ with Python\n",
    "\n",
    "### Initial setup\n",
    "\n",
    "In this notebook I will explain how can we use the _dbnR_ package in Python with the _rpy2_ library. It is very common to code in several languages, and I've come across the problem of having to use Python to deploy DBN models when all my code is done in R. I will show how can we use the _rpy2_ library to fit a DBN model and predict with it. This is not a perfect solution, but it gets the job done.\n",
    "\n",
    "First of all, we will need a working Python environment with _rpy2_ installed. In my case, I will be defining a new conda environment for this purpose:\n",
    "\n",
    "```Shell\n",
    "conda create -n rpy2 python=3.7.0\n",
    "conda activate rpy2\n",
    "pip install rpy2\n",
    "conda install -c anaconda pandas\n",
    "```\n",
    "\n",
    "This will get us a working environment with a local R distribution that we will need to populate with our desired R packages, in our case _dbnR_ and its dependencies."
   ]
  },
  {
   "cell_type": "code",
   "execution_count": 6,
   "id": "affected-moisture",
   "metadata": {},
   "outputs": [
    {
     "name": "stdout",
     "output_type": "stream",
     "text": [
      "3.4.4\n"
     ]
    }
   ],
   "source": [
    "import rpy2\n",
    "print(rpy2.__version__)"
   ]
  },
  {
   "cell_type": "markdown",
   "id": "former-northern",
   "metadata": {},
   "source": [
    "Now that our environment is prepared, we will proceed with the installation of _dbnR_ into the new R distribution of _rpy2_ "
   ]
  },
  {
   "cell_type": "code",
   "execution_count": 1,
   "id": "fatty-invite",
   "metadata": {},
   "outputs": [
    {
     "name": "stdout",
     "output_type": "stream",
     "text": [
      "The R package \"dbnR\" is not installed.\n"
     ]
    }
   ],
   "source": [
    "import rpy2.robjects as robj\n",
    "import rpy2.robjects.packages as rpack\n",
    "from rpy2.rinterface_lib.embedded import RRuntimeError\n",
    "from rpy2.robjects.packages import PackageNotInstalledError\n",
    "\n",
    "try:\n",
    "    dbnR = rpack.importr('dbnR')\n",
    "except PackageNotInstalledError as e:\n",
    "    print(e)"
   ]
  },
  {
   "cell_type": "markdown",
   "id": "norwegian-apache",
   "metadata": {},
   "source": [
    "If you run into R '.dll' files not found errors after executing `import rpy2.robjects as robj`, then you need to fiddle with your environment variables so that the R binaries are in your path. I had to add several environment variables on Windows. I'll list them in case it solves some possible problems in the future, and take care to put the correct R version, user name and path. Notice how I'm using miniconda, if you are using conda or not using it at all, you have to adjust the path to _rpy2_ accordingly. Only add the 'R_USER' variable if you want to set a specific _rpy2_ library, because it will mess your other R libraries paths. If you are using Rstudio or some other R interpreter, this will make it default to the _rpy2_ library and that is likely not a good thing.\n",
    "\n",
    "User variables:\n",
    "\n",
    "* Path - C:\\Program Files\\R\\R-4.0.2\\bin\\x64\n",
    "\n",
    "* R_USER - C:\\Users\\\\<Your_username\\>\\Miniconda3\\envs\\rpy2\\Lib\\site-packages\\rpy2\n",
    "\n",
    "System variables:\n",
    "\n",
    "* R_HOME - C:\\Program Files\\R\\R-4.0.2 \n",
    "\n",
    "* R_USER - C:\\Program Files\\RStudio\\bin;C:\\Users\\\\<Your_username\\>\\Miniconda3\\envs\\rpy2\\Lib\\site-packages\\rpy2\n",
    "\n",
    "### Installation of _dbnR_\n",
    "\n",
    "The simplest way of doing this would be using the _utils_ base R package to install other packages from CRAN. In case we need to install the GitHub version, we first need the _devtools_ package and that is trickier. If we locate the R library of the _rpy2_ environment we could also install it by hand, but that would not be optimal. The last option is to change the library path of _rpy2_ to the one we normally use in R, that way we will be able to install packages directly from R and we will be able to just use them in _rpy2_.\n",
    "\n",
    "In the next chunk, we install the package using CRAN and give an option to print the path of the _rpy2_ R libraries:"
   ]
  },
  {
   "cell_type": "code",
   "execution_count": 3,
   "id": "unknown-variety",
   "metadata": {},
   "outputs": [
    {
     "name": "stdout",
     "output_type": "stream",
     "text": [
      "dbnR is already installed.\n"
     ]
    }
   ],
   "source": [
    "import rpy2.robjects as robj\n",
    "import rpy2.robjects.packages as rpackages\n",
    "\n",
    "show_path = False\n",
    "libpath = robj.r[\".libPaths\"]\n",
    "if(show_path):\n",
    "    print(\"The path to the libraries used by rpy2 is:\")\n",
    "    print(libpath())\n",
    "\n",
    "utils = rpackages.importr('utils')\n",
    "utils.chooseCRANmirror(ind=1)\n",
    "\n",
    "if(rpackages.isinstalled('dbnR')):\n",
    "    print(\"dbnR is already installed.\")\n",
    "\n",
    "else:\n",
    "    utils.install_packages('dbnR')\n",
    "    print(\"dbnR was successfully installed.\")"
   ]
  },
  {
   "cell_type": "markdown",
   "id": "infinite-census",
   "metadata": {},
   "source": [
    "### Learning a DBN model and forecasting with it\n",
    "\n",
    "Now that we have _dbnR_ up and running, we will reproduce the example in the 'usage_example.Rmd' file. We will follow the same pipeline: learning the structure of the network from the 'motor' dataset, fitting the model to the data and forecasting with it. The functions of the _dbnR_ package are called via the package instantiation in Python as if we were calling functions inside an object. Other elements of the R environment can also be accessed via the 'robj.r' object that represents the R session. Translations between pandas and R data.frames are done automatically by _rpy2_."
   ]
  },
  {
   "cell_type": "code",
   "execution_count": 3,
   "id": "major-panel",
   "metadata": {},
   "outputs": [
    {
     "name": "stdout",
     "output_type": "stream",
     "text": [
      "Pointwise prediction:\n",
      "     nrow  stator_winding_t_0\n",
      "1       1            0.320855\n",
      "2       2            0.324326\n",
      "3       3            0.324271\n",
      "4       4            0.323423\n",
      "5       5            0.325163\n",
      "..    ...                 ...\n",
      "193   193            0.402305\n",
      "194   194            0.402777\n",
      "195   195            0.402748\n",
      "196   196            0.402368\n",
      "197   197            0.402191\n",
      "\n",
      "[197 rows x 2 columns]\n",
      "Forecasting:\n",
      "Time difference of -0.161736 secs\n",
      "[1] The average MAE per execution is:\n",
      "[1] pm_t_0: 0.0016\n",
      "[1] stator_winding_t_0: 0.0095\n"
     ]
    }
   ],
   "source": [
    "import pandas as pd\n",
    "import rpy2.robjects as robj\n",
    "import rpy2.robjects.packages as rpack\n",
    "from rpy2.robjects import pandas2ri\n",
    "\n",
    "# Activate the online conversor from pandas to data.frame\n",
    "pandas2ri.activate()\n",
    "\n",
    "# The object that represents the R session\n",
    "r = robj.r\n",
    "\n",
    "# Load all the dbnR package\n",
    "dbnR = rpack.importr('dbnR')\n",
    "\n",
    "# Read the data\n",
    "motor = robj.r['motor'] # Usually, you would have your dataset stored as a '.csv' file somewhere in order to load it with pandas\n",
    "\n",
    "# Learn the structure\n",
    "size = 3\n",
    "dt_train = motor.iloc[1:2800]\n",
    "dt_val = motor.iloc[2801:3000]\n",
    "blacklist = r['matrix'](robj.StrVector([\"motor_speed_t_0\", \"motor_speed_t_0\", \"i_d_t_0\", \"i_q_t_0\"]), ncol = 2)\n",
    "net = dbnR.learn_dbn_struc(dt_train, size, method = \"dmmhc\", blacklist = blacklist,\n",
    "                             restrict = \"mmpc\", maximize = \"hc\") # Arguments with dots generate errors\n",
    "\n",
    "# Fit the parameters\n",
    "f_dt_train = dbnR.fold_dt(dt_train, size)\n",
    "f_dt_val = dbnR.fold_dt(dt_val, size)\n",
    "fit = dbnR.fit_dbn_params(net, f_dt_train, method = \"mle-g\")\n",
    "\n",
    "# Predict with the model\n",
    "obj_var = robj.StrVector([\"stator_winding_t_0\"])\n",
    "res = dbnR.predict_dt(fit, f_dt_val, obj_var, verbose = False) # Be careful with plots, they sometimes kill your kernel\n",
    "print(\"Pointwise prediction:\")\n",
    "print(res)\n",
    "\n",
    "print(\"Forecasting:\")\n",
    "res = dbnR.forecast_ts(f_dt_val, fit, obj_var = robj.StrVector([\"pm_t_0\", \"stator_winding_t_0\"]),\n",
    "                       ini = 100, len = 70, plot_res = False)\n"
   ]
  },
  {
   "cell_type": "markdown",
   "id": "about-piece",
   "metadata": {},
   "source": [
    "With this, we cover the basic use of the _dbnR_ package from Python. This still requires R running in the background, so it is not a Python port by any means. The results are also converted to pandas dataframes automatically by _rpy2_. On this notebook, the R plots always crashed the Python kernel, so I would advise against them. The visualization of the network doesn't translate into Python either, as it was to be expected. Even so, the model can still be learned, used and deployed without issues. The most troublesome part was getting the right R library linked with _rpy2_ by fiddling with the environment variables (if you are working on Windows). The only other issues I saw were the plot crashing the kernel and the arguments containing the dot character '.' generating errors."
   ]
  }
 ],
 "metadata": {
  "kernelspec": {
   "display_name": "rpy2",
   "language": "python",
   "name": "rpy2"
  },
  "language_info": {
   "codemirror_mode": {
    "name": "ipython",
    "version": 3
   },
   "file_extension": ".py",
   "mimetype": "text/x-python",
   "name": "python",
   "nbconvert_exporter": "python",
   "pygments_lexer": "ipython3",
   "version": "3.7.0"
  }
 },
 "nbformat": 4,
 "nbformat_minor": 5
}
